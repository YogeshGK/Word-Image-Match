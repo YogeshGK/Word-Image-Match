{
  "nbformat": 4,
  "nbformat_minor": 0,
  "metadata": {
    "colab": {
      "provenance": []
    },
    "kernelspec": {
      "name": "python3",
      "display_name": "Python 3"
    },
    "language_info": {
      "name": "python"
    }
  },
  "cells": [
    {
      "cell_type": "code",
      "execution_count": null,
      "metadata": {
        "id": "VTsFWACN2hea"
      },
      "outputs": [],
      "source": [
        "from matplotlib import pyplot as plt\n",
        "import skimage as ski\n",
        "import numpy as np\n",
        "from skimage import io\n",
        "\n",
        "\n",
        "PATH = '/content/drive/MyDrive/123OfAi/word_images_normalized'\n",
        "PADDED_PATH = \"/content/drive/MyDrive/123OfAi/padded_images\"\n",
        "GROUND_TRUTH_FILE = \"/content/drive/MyDrive/123OfAi/word_labels.txt\"\n",
        "RESIZED_PADDED_PATH =\"/content/drive/MyDrive/123OfAi/resized_padded_images\"\n",
        "\n",
        "is_padded = False\n",
        "is_resized = False"
      ]
    },
    {
      "cell_type": "markdown",
      "source": [
        "## **Section 1 : Utils**\n",
        "\n",
        "\n",
        "\n",
        "1.   **get_max_rows_cols** : gets max rows and columns across all dataset\n",
        "\n",
        "2.   **pad_images**:\n",
        "appends 0 to make all images of same size wrt max_col and max_rows\n",
        "\n",
        "3.   **resize_images**\n",
        "resizes the padded images to 25% of their original size\n",
        "\n",
        "4.   **prepare_gtruth:**\n",
        "preprocessing of the input labels\n",
        "\n",
        "5.   **flatten_image:**\n",
        "flattens the 2D image to 1D\n",
        "\n",
        "6. **perform_quant_analysis:**\n",
        "calculates accuracy score\n",
        "\n",
        "7. **visualize_neighbours:**\n",
        "plots graph for kNN\n",
        "\n",
        "\n",
        "\n"
      ],
      "metadata": {
        "id": "Zp7rHf0colSk"
      }
    },
    {
      "cell_type": "code",
      "source": [
        "def get_max_rows_cols():\n",
        "  import os\n",
        "\n",
        "  max_rows = 0\n",
        "  max_cols = 0\n",
        "  max_rows_image_path = ''\n",
        "  max_cols_image_path = ''\n",
        "\n",
        "  # Iterate through the images in the folder\n",
        "  for filename in os.listdir(PATH):\n",
        "      if filename.endswith(('.png')):  # Add more image extensions if needed\n",
        "          image_path = PATH+ \"/\"+filename;\n",
        "          # Read the image\n",
        "          image = io.imread(image_path)\n",
        "          # Get the dimensions of the current image\n",
        "          rows, cols = image.shape  # Assuming color images\n",
        "\n",
        "          # Update max dimensions if current image is larger\n",
        "          if rows > max_rows :\n",
        "              max_rows = rows\n",
        "              max_rows_image_path = image_path\n",
        "\n",
        "          if cols > max_cols:\n",
        "              max_cols = cols\n",
        "              max_cols_image_path = image_path\n",
        "\n",
        "  # Print the information about the image with the largest dimensions\n",
        "  print(f\"Image with the largest dimensions:\")\n",
        "  print(f\"R Path: {max_rows_image_path}\")\n",
        "  print(f\"C Path: {max_cols_image_path}\")\n",
        "  print(f\"Rows: {max_rows}\")\n",
        "  print(f\"Columns: {max_cols}\")\n",
        "  return max_rows, max_cols"
      ],
      "metadata": {
        "id": "kvzBRwWWLPvG"
      },
      "execution_count": null,
      "outputs": []
    },
    {
      "cell_type": "code",
      "source": [
        "import warnings\n",
        "import os\n",
        "from PIL import Image\n",
        "\n",
        "#  Pad the existing images with make it in sync with largest row and column value across the dataset\n",
        "#  Save the images afetr padding at PADDED_PATH location\n",
        "def pad_images():\n",
        "  target_rows, target_cols = get_max_rows_cols()\n",
        "  # target_rows, target_cols = 120, 645\n",
        "\n",
        "  for filename in os.listdir(PATH):\n",
        "      if filename.endswith(('.png')):\n",
        "        image_path = PATH+ \"/\"+filename;\n",
        "        # Read the image\n",
        "        image = io.imread(image_path)\n",
        "        pad_cols = max(0, target_cols - image.shape[1])\n",
        "        padded_image = np.pad(image, ((0, 0), (0, pad_cols)), constant_values=True)\n",
        "        with warnings.catch_warnings():\n",
        "          warnings.simplefilter(\"ignore\")\n",
        "          io.imsave(PADDED_PATH+\"/\"+filename, padded_image.astype(bool))\n",
        "\n",
        "\n",
        "def resize_images():\n",
        "  scaling_factor = 0.25\n",
        "  for filename in os.listdir(PADDED_PATH):\n",
        "    if filename.endswith(('.png')):\n",
        "      image_path = PADDED_PATH+ \"/\"+filename;\n",
        "      image =  Image.open(image_path)\n",
        "      new_width = int(image.width * scaling_factor)\n",
        "      new_height = int(image.height * scaling_factor)\n",
        "      resized_image = image.resize((new_width, new_height))\n",
        "      resized_image.save(RESIZED_PADDED_PATH+\"/\"+filename)\n",
        "\n",
        "if is_padded==False:\n",
        "  pad_images\n",
        "\n",
        "if is_resized==False:\n",
        "  resize_images()"
      ],
      "metadata": {
        "id": "xIAlqISJTYYq"
      },
      "execution_count": null,
      "outputs": []
    },
    {
      "cell_type": "code",
      "source": [
        "\n",
        "import re\n",
        "\n",
        "# Parse and cleanup the ground truth data to extract the word.\n",
        "# Stores the cleaned data in gtruth_dictionary\n",
        "\n",
        "def extract_word(text):\n",
        "    parts = text.split('_')\n",
        "    return parts[0].replace('-', '')\n",
        "\n",
        "def cleanup_word(text):\n",
        "   return text.replace(\"s_cm\",\",\").replace(\"s_pt\",\".\")\n",
        "\n",
        "def prepare_gtruth():\n",
        "  gtruth_dict = {};\n",
        "  with open(GROUND_TRUTH_FILE, 'r') as file:\n",
        "    lines = file.readlines()\n",
        "    for line in lines:\n",
        "        file_name, word = line.strip().split(' ', 1)\n",
        "        word = cleanup_word(word)\n",
        "        match = re.search(r'\\d+', word)\n",
        "        result_value = ''.join(re.findall(r'\\d', word)) if match else extract_word(word)\n",
        "        gtruth_dict[file_name]= result_value;\n",
        "  return gtruth_dict"
      ],
      "metadata": {
        "id": "nZJIsKR_pT82"
      },
      "execution_count": null,
      "outputs": []
    },
    {
      "cell_type": "code",
      "source": [
        "import os\n",
        "\n",
        "# create 1D arrayof each image and append to padded_img_arr\n",
        "# retrun both flattened as well original image tuple\n",
        "def flatten_image():\n",
        "  padded_img_arr = []\n",
        "  ori_img_arr = []\n",
        "  for filename in os.listdir(RESIZED_PADDED_PATH):\n",
        "        if filename.endswith(('.png')):\n",
        "          image_path = RESIZED_PADDED_PATH+ \"/\"+filename;\n",
        "          image = io.imread(image_path)\n",
        "          ori_img_arr.append(image)\n",
        "          padded_img_arr.append(image.flatten())\n",
        "  return (padded_img_arr, ori_img_arr)"
      ],
      "metadata": {
        "id": "vGYFbOFFWFwA"
      },
      "execution_count": null,
      "outputs": []
    },
    {
      "cell_type": "code",
      "source": [
        "from tabulate import tabulate\n",
        "\n",
        "def prepare_results(y_train, y_test, indices):\n",
        "  result_data = []\n",
        "  for i,neighbors_indices in enumerate(indices):\n",
        "    result_data.append({\"word\":y_test[i],\"nearestIndex\":list(neighbors_indices),\"nearestWords\":[y_train[i] for i in neighbors_indices.flatten()]})\n",
        "  return result_data\n",
        "\n",
        "def print_results(result_data):\n",
        "  headers = result_data[0].keys()\n",
        "  table_data = [(entry['word'], entry['nearestIndex'], entry['nearestWords']) for entry in result_data]\n",
        "  table = tabulate(table_data, headers, tablefmt=\"pretty\")\n",
        "  print(table)\n",
        "\n",
        "# prepare_results()\n",
        "# print_results()\n"
      ],
      "metadata": {
        "id": "sjQigDwPrmEc"
      },
      "execution_count": null,
      "outputs": []
    },
    {
      "cell_type": "code",
      "source": [
        "from sklearn.metrics import accuracy_score, precision_score, recall_score, f1_score, confusion_matrix\n",
        "\n",
        "\n",
        "def perform_quant_anlysis(y_test,result_data):\n",
        "  # words = [item['word'] for item in result_data]\n",
        "  neighbours = [item['nearestWords'] for item in result_data]\n",
        "\n",
        "  y_pred_flat = [item[0] for item in neighbours]\n",
        "  accuracy = accuracy_score(y_test, y_pred_flat)\n",
        "  precision = precision_score(y_test, y_pred_flat, average='micro')\n",
        "  recall = recall_score(y_test, y_pred_flat, average='micro')\n",
        "  f1 = f1_score(y_test, y_pred_flat,  average='micro')\n",
        "  conf_matrix = confusion_matrix(y_test, y_pred_flat)\n",
        "\n",
        "  print(\"Accuracy:\", accuracy)\n",
        "  print(\"Precision:\", precision)\n",
        "  print(\"Recall:\", recall)\n",
        "  print(\"F1 Score:\", f1)\n",
        "# print(\"Confusion Matrix:\\n\", conf_matrix)\n"
      ],
      "metadata": {
        "id": "T12i7GxE_c_Z"
      },
      "execution_count": null,
      "outputs": []
    },
    {
      "cell_type": "code",
      "source": [
        "import matplotlib.pyplot as plt\n",
        "import networkx as nx\n",
        "from matplotlib.animation import FuncAnimation\n",
        "\n",
        "\n",
        "def visualize_neighbours(y_train,y_test,indices,k):\n",
        "  G = nx.Graph()\n",
        "\n",
        "  for i in y_test[:k]:\n",
        "      if not G.has_node(i):\n",
        "        G.add_node(i)\n",
        "\n",
        "  for i,neighbors_indices in enumerate(indices[:k]):\n",
        "    neighbours = [y_train[j] for j in neighbors_indices.flatten()]\n",
        "    for j in neighbours:\n",
        "      if not G.has_node(j):\n",
        "        G.add_node(j)\n",
        "\n",
        "  for i in range(k):\n",
        "    neighbours = [y_train[j] for j in indices[i].flatten()]\n",
        "    # print(neighbours)\n",
        "    for j in  range(len(neighbours)):\n",
        "      G.add_edge(y_test[i], neighbours[j])\n",
        "\n",
        "  pos = nx.spring_layout(G)\n",
        "  nx.draw(G, pos, with_labels=True, node_size=300, node_color='lightgreen', font_size=7, font_color='black', edge_color='black', width=1.0)\n",
        "  plt.title('Nearest Neighbors Graph')\n",
        "  plt.show()\n"
      ],
      "metadata": {
        "id": "148m5hV0sN3x"
      },
      "execution_count": null,
      "outputs": []
    },
    {
      "cell_type": "markdown",
      "source": [
        "## **Section 2 : Model Evaluation**\n",
        "\n",
        "\n",
        "\n",
        "1.   **NearestNeighbour**\n",
        "2.   **Using Variable Feature Length**\n",
        "3.  **scikitlearn-image HOG**\n",
        "3.  **scikitlearn-image LBP**\n",
        "\n"
      ],
      "metadata": {
        "id": "lpUHNgqvqJrI"
      }
    },
    {
      "cell_type": "code",
      "source": [
        "from sklearn.model_selection import train_test_split\n",
        "import numpy as np\n",
        "from sklearn.neighbors import NearestNeighbors\n",
        "\n",
        "\n",
        "def find_nearest_neighbour(k, X, y):\n",
        "  X_train, X_test, y_train, y_test = train_test_split(X, y, test_size=0.2, random_state=42)\n",
        "  X_train = np.array(X_train)\n",
        "  nn_model = NearestNeighbors(metric='cosine', algorithm='brute')\n",
        "  nn_model.fit(X_train)\n",
        "\n",
        "  X_test = np.array(X_test)\n",
        "  distances, indices = nn_model.kneighbors(X_test, n_neighbors=k)\n",
        "  return (y_train, y_test,distances, indices)\n"
      ],
      "metadata": {
        "id": "Ta4njn6BrBC4"
      },
      "execution_count": null,
      "outputs": []
    },
    {
      "cell_type": "markdown",
      "source": [
        "**Find the nearest neighbors and analyze the results**"
      ],
      "metadata": {
        "id": "QA_ULRXcPRS3"
      }
    },
    {
      "cell_type": "code",
      "source": [
        "gtruth_dict = prepare_gtruth();\n",
        "padded_flattened_img_arr, ori_img_array = flatten_image();\n",
        "kNeighbours = 3\n",
        "y_train, y_test,distances, indices = find_nearest_neighbour(kNeighbours, padded_flattened_img_arr, list(gtruth_dict.values()))\n",
        "result_data = prepare_results(y_train, y_test, indices)\n",
        "# # print_results(result_data)\n",
        "perform_quant_anlysis(y_test,result_data)"
      ],
      "metadata": {
        "colab": {
          "base_uri": "https://localhost:8080/"
        },
        "id": "plvBjochCqad",
        "outputId": "c3554cc0-2f53-4794-8eb7-6f43162537dd"
      },
      "execution_count": null,
      "outputs": [
        {
          "output_type": "stream",
          "name": "stdout",
          "text": [
            "Accuracy: 0.013278855975485188\n",
            "Precision: 0.013278855975485188\n",
            "Recall: 0.013278855975485188\n",
            "F1 Score: 0.013278855975485188\n"
          ]
        }
      ]
    },
    {
      "cell_type": "code",
      "source": [
        "visualize_neighbours(y_train,y_test,indices,25)"
      ],
      "metadata": {
        "colab": {
          "base_uri": "https://localhost:8080/",
          "height": 539
        },
        "id": "iiGUmAY057u-",
        "outputId": "b65598b3-777b-4bcc-bd5e-b4552e2ecc2c"
      },
      "execution_count": null,
      "outputs": [
        {
          "output_type": "display_data",
          "data": {
            "text/plain": [
              "<Figure size 640x480 with 1 Axes>"
            ],
            "image/png": "[encoded data removed]"
          },
          "metadata": {}
        }
      ]
    },
    {
      "cell_type": "markdown",
      "source": [
        "**Using Variable Feature Length**"
      ],
      "metadata": {
        "id": "4i9Q4gFsTEKS"
      }
    },
    {
      "cell_type": "code",
      "source": [
        "# Create feature vector by combining all the features below\n",
        "# Feature 1: Sum of ones per column\n",
        "# Feature 2: First occurrence of 1 when scanning from top to bottom\n",
        "# Feature 3: First occurrence of 1 when scanning from bottom to top\n",
        "# Feature 4: First occurrence of 1 when scanning from left to right\n",
        "# Feature 5: First occurrence of 1 when scanning from right to left\n",
        "\n",
        "def add_features(binary_images):\n",
        "    features = []\n",
        "    for img in binary_images:\n",
        "        binary_image = (img > 0).astype(int)\n",
        "        column_sum_1s = np.sum(binary_image, axis=0)\n",
        "        first_occurrence_top_to_bottom = np.argmax(img, axis=0)\n",
        "        first_occurrence_bottom_to_top = img.shape[0] - 1 - np.argmax(np.flipud(img), axis=0)\n",
        "        first_occurrence_left_to_right = np.argmax(binary_image == 1, axis=0)\n",
        "        first_occurrence_right_to_left = binary_image.shape[1] - 1 - np.argmax(binary_image[:, ::-1] == 1, axis=0)\n",
        "        combined_feature = np.concatenate([column_sum_1s, first_occurrence_top_to_bottom,\n",
        "                                           first_occurrence_bottom_to_top,first_occurrence_left_to_right.flatten(),first_occurrence_right_to_left.flatten()])\n",
        "        features.append(combined_feature)\n",
        "    return np.array(features)"
      ],
      "metadata": {
        "id": "OxmWcxRGLTP9"
      },
      "execution_count": null,
      "outputs": []
    },
    {
      "cell_type": "code",
      "source": [
        "# padded_flattened_img_arr, ori_img_array = flatten_image();"
      ],
      "metadata": {
        "id": "3hmjWYvGOlSg"
      },
      "execution_count": null,
      "outputs": []
    },
    {
      "cell_type": "code",
      "source": [
        "kNeighbours = 3\n",
        "feature_array = add_features(ori_img_array)\n",
        "\n",
        "y_train, y_test,distances, indices = find_nearest_neighbour(kNeighbours, feature_array, list(gtruth_dict.values()))\n",
        "result_data = prepare_results(y_train, y_test, indices)\n",
        "# print_results(result_data)\n",
        "perform_quant_anlysis(y_test,result_data)\n"
      ],
      "metadata": {
        "id": "KeyJMAnzXDaG",
        "colab": {
          "base_uri": "https://localhost:8080/"
        },
        "outputId": "370535a2-3a43-4a5a-f2ba-818bb98c1930"
      },
      "execution_count": null,
      "outputs": [
        {
          "output_type": "stream",
          "name": "stdout",
          "text": [
            "Accuracy: 0.008171603677221655\n",
            "Precision: 0.008171603677221655\n",
            "Recall: 0.008171603677221655\n",
            "F1 Score: 0.008171603677221655\n"
          ]
        }
      ]
    },
    {
      "cell_type": "markdown",
      "source": [
        "**Feature extraction with scikitlearn-image**"
      ],
      "metadata": {
        "id": "LYHv3ql3-1CO"
      }
    },
    {
      "cell_type": "code",
      "source": [
        "\n",
        "from skimage.feature import hog\n",
        "from skimage import exposure\n",
        "from sklearn.datasets import fetch_openml\n",
        "from sklearn.model_selection import train_test_split\n",
        "from sklearn.svm import SVC\n",
        "from sklearn.metrics import accuracy_score\n",
        "\n",
        "# Feature extraction using HOG\n",
        "def extract_hog_features(images):\n",
        "    hog_features = []\n",
        "    for image in images:\n",
        "        fd, _ = hog(image, orientations=8, pixels_per_cell=(4, 4), cells_per_block=(1, 1), visualize=True)\n",
        "        hog_features.append(fd)\n",
        "    return hog_features\n",
        "\n",
        "def analyze_with_HOG():\n",
        "  X = ori_img_array\n",
        "  y = list(gtruth_dict.values())\n",
        "  X_train, X_test, y_train, y_test = train_test_split(X, y, test_size=0.2, random_state=42)\n",
        "\n",
        "  X_train_hog = extract_hog_features(X_train)\n",
        "  X_test_hog = extract_hog_features(X_test)\n",
        "\n",
        "  clf = SVC()\n",
        "  clf.fit(X_train_hog, y_train)\n",
        "  y_pred = clf.predict(X_test_hog)\n",
        "  accuracy = accuracy_score(y_test, y_pred)\n",
        "  print(f\"Accuracy: {accuracy}\")\n",
        "\n",
        "analyze_with_HOG()"
      ],
      "metadata": {
        "id": "WwB7kGVJcSVk",
        "colab": {
          "base_uri": "https://localhost:8080/"
        },
        "outputId": "61cf011b-3f52-4e04-fc7d-8bcf679d5d1f"
      },
      "execution_count": null,
      "outputs": [
        {
          "output_type": "stream",
          "name": "stdout",
          "text": [
            "Accuracy: 0.04187946884576098\n"
          ]
        }
      ]
    },
    {
      "cell_type": "code",
      "source": [
        "from skimage import io, feature, color\n",
        "import numpy as np\n",
        "\n",
        "def analyze_with_LBP():\n",
        "  features = []\n",
        "  for filename in os.listdir(RESIZED_PADDED_PATH):\n",
        "          if filename.endswith(('.png')):\n",
        "            image_path = RESIZED_PADDED_PATH+ \"/\"+filename;\n",
        "            image = io.imread(image_path)\n",
        "            lbp_features = feature.local_binary_pattern(image, P=8, R=1, method='uniform')\n",
        "            flat_lbp_features = lbp_features.flatten()\n",
        "            features.append(flat_lbp_features)\n",
        "\n",
        "  X = np.array(features)\n",
        "  y = list(gtruth_dict.values())\n",
        "\n",
        "\n",
        "  X_train, X_test, y_train, y_test = train_test_split(X, y, test_size=0.2, random_state=42)\n",
        "  svc_model = SVC()\n",
        "  svc_model.fit(X_train, y_train)\n",
        "  y_pred = svc_model.predict(X_test)\n",
        "\n",
        "  accuracy = accuracy_score(y_test, y_pred)\n",
        "  print(f\"Accuracy: {accuracy}\")\n",
        "\n",
        "analyze_with_LBP()"
      ],
      "metadata": {
        "colab": {
          "base_uri": "https://localhost:8080/"
        },
        "id": "nBEfYmhK680N",
        "outputId": "93dc9630-bdb6-464c-d6ea-70e73cf48dec"
      },
      "execution_count": null,
      "outputs": [
        {
          "output_type": "stream",
          "name": "stdout",
          "text": [
            "Accuracy: 0.04187946884576098\n"
          ]
        }
      ]
    }
  ]
}