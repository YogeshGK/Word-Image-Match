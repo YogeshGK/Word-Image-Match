{
  "nbformat": 4,
  "nbformat_minor": 0,
  "metadata": {
    "colab": {
      "provenance": []
    },
    "kernelspec": {
      "name": "python3",
      "display_name": "Python 3"
    },
    "language_info": {
      "name": "python"
    }
  },
  "cells": [
    {
      "cell_type": "code",
      "execution_count": 1,
      "metadata": {
        "id": "VTsFWACN2hea",
        "colab": {
          "base_uri": "https://localhost:8080/",
          "height": 175
        },
        "outputId": "dbd1074d-b865-44c9-c7ce-d65ea1ffa045"
      },
      "outputs": [
        {
          "output_type": "execute_result",
          "data": {
            "text/plain": [
              "<matplotlib.image.AxesImage at 0x7dab57a93fa0>"
            ]
          },
          "metadata": {},
          "execution_count": 1
        },
        {
          "output_type": "display_data",
          "data": {
            "text/plain": [
              "<Figure size 640x480 with 1 Axes>"
            ],
            "image/png": "[encoded data removed]"
          },
          "metadata": {}
        }
      ],
      "source": [
        "from matplotlib import pyplot as plt\n",
        "import skimage as ski\n",
        "import numpy as np\n",
        "from skimage import io\n",
        "\n",
        "\n",
        "PATH = '/content/drive/MyDrive/123OfAi/word_images_normalized'\n",
        "PADDED_PATH = \"/content/drive/MyDrive/123OfAi/padded_images\"\n",
        "GROUND_TRUTH_FILE = \"/content/drive/MyDrive/123OfAi/word_labels.txt\"\n",
        "\n"
      ]
    },
    {
      "cell_type": "code",
      "source": [
        "image=io.imread (PADDED_PATH+\"/270-19-08.png\")\n",
        "plt.imshow(image,cmap='gray')"
      ],
      "metadata": {
        "id": "wgY_1UDJXRzz"
      },
      "execution_count": null,
      "outputs": []
    },
    {
      "cell_type": "code",
      "source": [
        "image.shape\n",
        "# print(image)\n",
        "true_count = np.count_nonzero(image)\n",
        "false_count = np.count_nonzero(~image)\n",
        "print(true_count, false_count)"
      ],
      "metadata": {
        "colab": {
          "base_uri": "https://localhost:8080/"
        },
        "id": "ApWNrVNRJ2LJ",
        "outputId": "a1271eb2-1223-4a8d-b02b-1c8f8eac015c"
      },
      "execution_count": 2,
      "outputs": [
        {
          "output_type": "stream",
          "name": "stdout",
          "text": [
            "21743 3217\n"
          ]
        }
      ]
    },
    {
      "cell_type": "code",
      "source": [
        "def get_max_rows_cols():\n",
        "  import os\n",
        "\n",
        "  max_rows = 0\n",
        "  max_cols = 0\n",
        "  max_rows_image_path = ''\n",
        "  max_cols_image_path = ''\n",
        "\n",
        "  # Iterate through the images in the folder\n",
        "  for filename in os.listdir(PATH):\n",
        "      if filename.endswith(('.png')):  # Add more image extensions if needed\n",
        "          image_path = PATH+ \"/\"+filename;\n",
        "          # Read the image\n",
        "          image = io.imread(image_path)\n",
        "          # Get the dimensions of the current image\n",
        "          rows, cols = image.shape  # Assuming color images\n",
        "\n",
        "          # Update max dimensions if current image is larger\n",
        "          if rows > max_rows :\n",
        "              max_rows = rows\n",
        "              max_rows_image_path = image_path\n",
        "\n",
        "          if cols > max_cols:\n",
        "              max_cols = cols\n",
        "              max_cols_image_path = image_path\n",
        "\n",
        "  # Print the information about the image with the largest dimensions\n",
        "  print(f\"Image with the largest dimensions:\")\n",
        "  print(f\"R Path: {max_rows_image_path}\")\n",
        "  print(f\"C Path: {max_cols_image_path}\")\n",
        "  print(f\"Rows: {max_rows}\")\n",
        "  print(f\"Columns: {max_cols}\")\n",
        "  return max_rows, max_cols"
      ],
      "metadata": {
        "id": "kvzBRwWWLPvG"
      },
      "execution_count": null,
      "outputs": []
    },
    {
      "cell_type": "code",
      "source": [],
      "metadata": {
        "id": "3BEh3S_RYi6Q"
      },
      "execution_count": null,
      "outputs": []
    },
    {
      "cell_type": "code",
      "source": [
        "import warnings\n",
        "import os\n",
        "\n",
        "#  Pad the existing images with make it in sync with largest row and column value across the dataset\n",
        "#  Save the images afetr padding at PADDED_PATH location\n",
        "def pad_images():\n",
        "  target_rows, target_cols = get_max_rows_cols()\n",
        "  # target_rows, target_cols = 120, 645\n",
        "\n",
        "  for filename in os.listdir(PATH):\n",
        "      if filename.endswith(('.png')):\n",
        "        image_path = PATH+ \"/\"+filename;\n",
        "        # Read the image\n",
        "        image = io.imread(image_path)\n",
        "        pad_cols = max(0, target_cols - image.shape[1])\n",
        "        padded_image = np.pad(image, ((0, 0), (0, pad_cols)), constant_values=True)\n",
        "        with warnings.catch_warnings():\n",
        "          warnings.simplefilter(\"ignore\")\n",
        "          io.imsave(PADDED_PATH+\"/\"+filename, padded_image.astype(bool))\n",
        "\n",
        "pad_images()"
      ],
      "metadata": {
        "id": "xIAlqISJTYYq"
      },
      "execution_count": 3,
      "outputs": []
    },
    {
      "cell_type": "code",
      "source": [
        "\n",
        "import re\n",
        "\n",
        "# Parse and cleanup the ground truth data to extract the word.\n",
        "# Stores the cleaned data in gtruth_dictionary\n",
        "\n",
        "gtruth_dict = {};\n",
        "\n",
        "def extract_word(text):\n",
        "    parts = text.split('_')\n",
        "    return parts[0].replace('-', '')\n",
        "\n",
        "def cleanup_word(text):\n",
        "   return text.replace(\"s_cm\",\",\").replace(\"s_pt\",\".\")\n",
        "\n",
        "def prepare_gtruth():\n",
        "  with open(GROUND_TRUTH_FILE, 'r') as file:\n",
        "    lines = file.readlines()\n",
        "    for line in lines:\n",
        "        file_name, word = line.strip().split(' ', 1)\n",
        "        word = cleanup_word(word)\n",
        "        match = re.search(r'\\d+', word)\n",
        "        result_value = ''.join(re.findall(r'\\d', word)) if match else extract_word(word)\n",
        "        gtruth_dict[file_name]= result_value;\n",
        "\n",
        "prepare_gtruth()\n",
        "# print(len(list(gtruth_dict.values())))\n"
      ],
      "metadata": {
        "colab": {
          "base_uri": "https://localhost:8080/"
        },
        "id": "nZJIsKR_pT82",
        "outputId": "f3b629cf-32f0-4c3b-fe04-7ee7dbbd23d6"
      },
      "execution_count": 2,
      "outputs": [
        {
          "output_type": "stream",
          "name": "stdout",
          "text": [
            "4894\n"
          ]
        }
      ]
    },
    {
      "cell_type": "code",
      "source": [
        "import os\n",
        "\n",
        "# create 1D arrayof each image and append to padded_img_arr\n",
        "padded_img_arr = []\n",
        "for filename in os.listdir(PADDED_PATH):\n",
        "      if filename.endswith(('.png')):\n",
        "        image_path = PADDED_PATH+ \"/\"+filename;\n",
        "        image = io.imread(image_path)\n",
        "        padded_img_arr.append(image.flatten())"
      ],
      "metadata": {
        "id": "vGYFbOFFWFwA"
      },
      "execution_count": 3,
      "outputs": []
    },
    {
      "cell_type": "code",
      "source": [
        "from sklearn.model_selection import train_test_split\n",
        "import numpy as np\n",
        "from sklearn.neighbors import NearestNeighbors\n",
        "\n",
        "\n",
        "X = padded_img_arr\n",
        "y = list(gtruth_dict.values())\n",
        "\n",
        "X_train, X_test, y_train, y_test = train_test_split(X, y, test_size=0.2, random_state=42)\n",
        "X_train = np.array(X_train)\n",
        "nn_model = NearestNeighbors(metric='cosine', algorithm='brute')\n",
        "nn_model.fit(X_train)\n",
        "\n",
        "\n",
        "X_test = np.array(X_test)\n",
        "distances, indices = nn_model.kneighbors(X_test, n_neighbors=3)\n"
      ],
      "metadata": {
        "id": "Ta4njn6BrBC4"
      },
      "execution_count": 43,
      "outputs": []
    },
    {
      "cell_type": "code",
      "source": [],
      "metadata": {
        "id": "hczMxyxvxREG"
      },
      "execution_count": 47,
      "outputs": []
    },
    {
      "cell_type": "code",
      "source": [
        "from tabulate import tabulate\n",
        "\n",
        "data = []\n",
        "for i,neighbors_indices in enumerate(indices[:10]):\n",
        "  data.append({\"word\":y_test[i],\"nearestIndex\":list(neighbors_indices),\"nearestWords\":[y_train[i] for i in neighbors_indices.flatten()]})\n",
        "\n",
        "# data[1]\n",
        "table_data = [(entry['word'], entry['nearestIndex'], entry['nearestWords']) for entry in data]\n",
        "\n",
        "print(table_data)\n"
      ],
      "metadata": {
        "colab": {
          "base_uri": "https://localhost:8080/"
        },
        "id": "u39PzjW5mbTQ",
        "outputId": "ce505040-b004-46a6-e29e-c10dea5ca3d2"
      },
      "execution_count": 78,
      "outputs": [
        {
          "output_type": "stream",
          "name": "stdout",
          "text": [
            "[('the', [2763, 2975, 72], ['Regiment.', 'to', 'can']), ('28', [551, 811, 3820], ['and', 'from', 'careful']), ('conveying', [2451, 1082, 1493], ['and', 'delivered', 'If']), ('We', [1438, 1220, 2622], ['I', 'we', 'get']), ('one', [3820, 292, 2529], ['careful', 'of', '30']), ('ordered', [2419, 2638, 1082], ['and', 'given', 'delivered']), ('no', [1717, 3861, 1542], ['so', 'Houses', 'as']), ('for', [247, 2169, 3861], ['Letters,', 'have', 'Houses']), ('This', [2714, 3019, 1540], ['delayss', 'to', 'Sergeant,']), ('arrived.', [1894, 2344, 507], ['is', 'any', 'of'])]\n"
          ]
        }
      ]
    }
  ]
}